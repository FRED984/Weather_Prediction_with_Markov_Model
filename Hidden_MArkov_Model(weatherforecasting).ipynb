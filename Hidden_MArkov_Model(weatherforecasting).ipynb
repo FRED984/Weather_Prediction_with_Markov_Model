{
  "nbformat": 4,
  "nbformat_minor": 0,
  "metadata": {
    "colab": {
      "provenance": [],
      "authorship_tag": "ABX9TyNLgS/adu3nkmYc3kVr71FT",
      "include_colab_link": true
    },
    "kernelspec": {
      "name": "python3",
      "display_name": "Python 3"
    },
    "language_info": {
      "name": "python"
    }
  },
  "cells": [
    {
      "cell_type": "markdown",
      "metadata": {
        "id": "view-in-github",
        "colab_type": "text"
      },
      "source": [
        "<a href=\"https://colab.research.google.com/github/FRED984/Weather_Prediction_with_Markov_Model/blob/main/Hidden_MArkov_Model(weatherforecasting).ipynb\" target=\"_parent\"><img src=\"https://colab.research.google.com/assets/colab-badge.svg\" alt=\"Open In Colab\"/></a>"
      ]
    },
    {
      "cell_type": "code",
      "execution_count": null,
      "metadata": {
        "id": "ryeQaoxvKoiu",
        "colab": {
          "base_uri": "https://localhost:8080/"
        },
        "outputId": "9317cae8-bf6c-420f-d3c1-1fbb867bf431"
      },
      "outputs": [
        {
          "output_type": "stream",
          "name": "stdout",
          "text": [
            "Colab only includes TensorFlow 2.x; %tensorflow_version has no effect.\n"
          ]
        }
      ],
      "source": [
        "%tensorflow_version 2.x"
      ]
    },
    {
      "cell_type": "code",
      "source": [
        "import tensorflow_probability as tfp\n",
        "import tensorflow as tf"
      ],
      "metadata": {
        "id": "h4xQINfqQrPi"
      },
      "execution_count": null,
      "outputs": []
    },
    {
      "cell_type": "code",
      "source": [
        "tfd = tfp.distributions\n",
        "initial_distribution = tfd.Categorical(probs=[0.8, 0.2])\n",
        "transiton_distribution = tfd.Categorical(probs=[[0.7, 0.3],[0.2, 0.8]])\n",
        "\n",
        "observation_distribution = tfd.Normal(loc=[0., 15.], scale=[5., 10.])"
      ],
      "metadata": {
        "id": "j6W4onoCR2ZD"
      },
      "execution_count": null,
      "outputs": []
    },
    {
      "cell_type": "code",
      "source": [
        "model = tfd.HiddenMarkovModel(initial_distribution=initial_distribution, transition_distribution=transiton_distribution, observation_distribution=observation_distribution, num_steps=7)"
      ],
      "metadata": {
        "id": "lo6psFt7TLeL"
      },
      "execution_count": null,
      "outputs": []
    },
    {
      "cell_type": "code",
      "source": [
        "mean = model.mean()\n",
        "\n",
        "with tf.compat.v1.Session() as sess:\n",
        "  print(mean.numpy())"
      ],
      "metadata": {
        "colab": {
          "base_uri": "https://localhost:8080/"
        },
        "id": "lvqTWfQWUlWm",
        "outputId": "fe60f5b0-b093-402a-8f2f-8b82837636aa"
      },
      "execution_count": null,
      "outputs": [
        {
          "output_type": "stream",
          "name": "stdout",
          "text": [
            "[3.        5.9999995 7.4999995 8.25      8.625001  8.812501  8.90625  ]\n"
          ]
        }
      ]
    }
  ]
}